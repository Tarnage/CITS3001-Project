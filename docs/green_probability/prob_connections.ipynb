{
 "cells": [
  {
   "cell_type": "code",
   "execution_count": 126,
   "metadata": {},
   "outputs": [],
   "source": [
    "from scipy.stats import binom, binomtest\n",
    "import matplotlib.pyplot as plt\n",
    "import numpy as np\n",
    "import random as rand\n",
    "\n",
    "TEST_SEED = 1234\n",
    "rand.seed(TEST_SEED)"
   ]
  },
  {
   "cell_type": "code",
   "execution_count": 137,
   "metadata": {},
   "outputs": [],
   "source": [
    "# n and p values\n",
    "n, p = 20, 0.5\n",
    "\n",
    "# a place to store the bonom distrubtions\n",
    "x = np.arange(0, n+1)"
   ]
  },
  {
   "cell_type": "markdown",
   "metadata": {},
   "source": [
    "# Binomial Distrubtion"
   ]
  },
  {
   "cell_type": "code",
   "execution_count": 139,
   "metadata": {},
   "outputs": [
    {
     "name": "stdout",
     "output_type": "stream",
     "text": [
      "[9.53674316e-07 1.90734863e-05 1.81198120e-04 1.08718872e-03\n",
      " 4.62055206e-03 1.47857666e-02 3.69644165e-02 7.39288330e-02\n",
      " 1.20134354e-01 1.60179138e-01 1.76197052e-01 1.60179138e-01\n",
      " 1.20134354e-01 7.39288330e-02 3.69644165e-02 1.47857666e-02\n",
      " 4.62055206e-03 1.08718872e-03 1.81198120e-04 1.90734863e-05\n",
      " 9.53674316e-07]\n"
     ]
    }
   ],
   "source": [
    "binomial_pmf = binom.pmf(x, n, p)\n",
    "print(binomial_pmf)"
   ]
  },
  {
   "cell_type": "code",
   "execution_count": 140,
   "metadata": {},
   "outputs": [
    {
     "data": {
      "image/png": "[encoded data removed]",
      "text/plain": [
       "<Figure size 640x480 with 1 Axes>"
      ]
     },
     "metadata": {},
     "output_type": "display_data"
    }
   ],
   "source": [
    "plt.plot(x, binomial_pmf, color='blue')\n",
    "plt.title(f\"Binomial Distribution (n={n}, p={p})\")\n",
    "plt.show()"
   ]
  },
  {
   "cell_type": "code",
   "execution_count": null,
   "metadata": {},
   "outputs": [],
   "source": [
    "# assign where this agent sits on the distubution\n",
    "agent_1_binom_index = rand.randint(0, n-1)\n",
    "\n",
    "# and a number that will decide the success of connection\n",
    "agent_1_prob = rand.randint(0, 1000) / 1000"
   ]
  },
  {
   "cell_type": "code",
   "execution_count": null,
   "metadata": {},
   "outputs": [],
   "source": [
    "print(agent_1_prob)\n",
    "print(agent_1_binom_index)"
   ]
  },
  {
   "cell_type": "code",
   "execution_count": null,
   "metadata": {},
   "outputs": [],
   "source": [
    "# check the probability an agent has a connection\n",
    "# x is the array of binomial distrubutions\n",
    "# agent_1_binom_index is a randomly assign number between 0 and n-1\n",
    "# agent_1_prob is a randomly assign number between 0.0 - 1.0\n",
    "\n",
    "# if the agents probablity(agent_1_prob) falls within the distrubution the agent has a successful connection\n",
    "\n",
    "x[agent_1_binom_index] < agent_1_prob"
   ]
  },
  {
   "cell_type": "markdown",
   "metadata": {},
   "source": [
    "# Creating greens Connections"
   ]
  },
  {
   "cell_type": "code",
   "execution_count": 176,
   "metadata": {},
   "outputs": [],
   "source": [
    "# Green Agent Class\n",
    "# We must approriatley apply random seeds\n",
    "\n",
    "class Green_Agent():\n",
    "    def __init__(self, connection_prob: list):\n",
    "        self.will_vote = 0.0\n",
    "        self.not_vote = 0.0\n",
    "        self.connections = list()\n",
    "    \n",
    "    def get_will_vote(self):\n",
    "        return self.will_vote\n",
    "\n",
    "    def get_not_vote(self):\n",
    "        return self.not_vote\n",
    "\n",
    "    def set_will_vote(self, value: int):\n",
    "        self.will_vote = value\n",
    "\n",
    "    def set_not_vote(self, value: int):\n",
    "        self.not_vote = value\n",
    "\n",
    "    def calculate_vote_status(self, interval: list):\n",
    "        return\n",
    "\n",
    "    def get_prob_value(self) -> int:\n",
    "        # 1000 is chosen for 3 decimal precsion\n",
    "        # this may cause precision bugs!.. \n",
    "        return rand.randint(0, 100) / 100\n",
    "\n",
    "    def get_connections(self) -> list:\n",
    "        return self.connections\n",
    "\n",
    "    def add_connection(self, conn: int) -> None:\n",
    "        self.connections.append(conn)"
   ]
  },
  {
   "cell_type": "code",
   "execution_count": 177,
   "metadata": {},
   "outputs": [],
   "source": [
    "def create_green_agents(num_green: int, connect_prob: list) -> list:\n",
    "    green_agents = list()\n",
    "\n",
    "    prob = (connect_prob[0] * connect_prob[1]) / 100\n",
    "    \n",
    "    # construct num_green of Green Agents\n",
    "    for i in range(num_green):\n",
    "        new_agent = Green_Agent(connect_prob)\n",
    "        green_agents.append(new_agent)\n",
    "\n",
    "    \n",
    "    # Check for connections between green agents\n",
    "    for i, agent in enumerate(green_agents):\n",
    "\n",
    "        for j in range(i+1, num_green):\n",
    "\n",
    "            # When is j less than i we have already checked those connections\n",
    "            # Thats why we start at  i+1\n",
    "            \n",
    "            agent_1_prob = agent.get_prob_value()\n",
    "            agent_2_prob = green_agents[j].get_prob_value()\n",
    "            \n",
    "            # check if agent has a connection\n",
    "            if (agent_1_prob < prob) and (agent_2_prob < prob):\n",
    "                agent.add_connection(j)\n",
    "                green_agents[j].add_connection(i)\n",
    "\n",
    "    return green_agents\n"
   ]
  },
  {
   "cell_type": "code",
   "execution_count": 200,
   "metadata": {},
   "outputs": [],
   "source": [
    "n, p = 50, 0.2\n",
    "\n",
    "num_green = 30\n",
    "\n",
    "g_agents = create_green_agents(num_green, [n, p])\n",
    "\n"
   ]
  },
  {
   "cell_type": "code",
   "execution_count": 201,
   "metadata": {},
   "outputs": [
    {
     "name": "stdout",
     "output_type": "stream",
     "text": [
      "Agent #0: \n",
      "Agent #1: \n",
      "Agent #2: \n",
      "Agent #3: 21 \n",
      "Agent #4: 7 \n",
      "Agent #5: \n",
      "Agent #6: \n",
      "Agent #7: 4 20 \n",
      "Agent #8: \n",
      "Agent #9: \n",
      "Agent #10: \n",
      "Agent #11: \n",
      "Agent #12: \n",
      "Agent #13: \n",
      "Agent #14: \n",
      "Agent #15: \n",
      "Agent #16: \n",
      "Agent #17: 22 \n",
      "Agent #18: \n",
      "Agent #19: \n",
      "Agent #20: 7 \n",
      "Agent #21: 3 \n",
      "Agent #22: 17 \n",
      "Agent #23: \n",
      "Agent #24: \n",
      "Agent #25: \n",
      "Agent #26: \n",
      "Agent #27: \n",
      "Agent #28: \n",
      "Agent #29: \n"
     ]
    }
   ],
   "source": [
    "for i, agent in enumerate(g_agents):\n",
    "    adj_list = agent.get_connections()\n",
    "    print(f\"Agent #{i}: \", end=\"\")\n",
    "    for j in adj_list:\n",
    "        print(f'{j} ', end=\"\")\n",
    "    print()"
   ]
  },
  {
   "cell_type": "code",
   "execution_count": 197,
   "metadata": {},
   "outputs": [
    {
     "data": {
      "text/plain": [
       "0.2"
      ]
     },
     "execution_count": 197,
     "metadata": {},
     "output_type": "execute_result"
    }
   ],
   "source": [
    "n * p / 100"
   ]
  },
  {
   "cell_type": "code",
   "execution_count": null,
   "metadata": {},
   "outputs": [],
   "source": []
  }
 ],
 "metadata": {
  "kernelspec": {
   "display_name": "Python 3.10.4 ('venv': venv)",
   "language": "python",
   "name": "python3"
  },
  "language_info": {
   "codemirror_mode": {
    "name": "ipython",
    "version": 3
   },
   "file_extension": ".py",
   "mimetype": "text/x-python",
   "name": "python",
   "nbconvert_exporter": "python",
   "pygments_lexer": "ipython3",
   "version": "3.10.4"
  },
  "orig_nbformat": 4,
  "vscode": {
   "interpreter": {
    "hash": "5d666164493d9f2f2dc3bb1fc2ec638b15299acfc35ddb6e02c60eccd58c4449"
   }
  }
 },
 "nbformat": 4,
 "nbformat_minor": 2
}
