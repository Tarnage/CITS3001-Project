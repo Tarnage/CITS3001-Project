{
 "cells": [
  {
   "cell_type": "code",
   "execution_count": 13,
   "metadata": {},
   "outputs": [],
   "source": [
    "from scipy.stats import binom\n",
    "import matplotlib.pyplot as plt\n",
    "import numpy as np\n",
    "import random as rand\n",
    "\n",
    "TEST_SEED = 1234\n",
    "rand.seed(TEST_SEED)"
   ]
  },
  {
   "cell_type": "code",
   "execution_count": 11,
   "metadata": {},
   "outputs": [],
   "source": [
    "# n and p values\n",
    "n, p = 5, 0.4\n",
    "\n",
    "# a place to store the bonom distrubtions\n",
    "x = np.arange(0, n+1)"
   ]
  },
  {
   "cell_type": "code",
   "execution_count": 48,
   "metadata": {},
   "outputs": [
    {
     "name": "stdout",
     "output_type": "stream",
     "text": [
      "[0.07776 0.2592  0.3456  0.2304  0.0768  0.01024]\n"
     ]
    }
   ],
   "source": [
    "binomial_pmf = binom.pmf(x, n, p)\n",
    "print(binomial_pmf)"
   ]
  },
  {
   "cell_type": "code",
   "execution_count": 70,
   "metadata": {},
   "outputs": [],
   "source": [
    "# assign where this agent sits on the distubution\n",
    "agent_1_binom_index = rand.randint(0, n-1)\n",
    "\n",
    "# and a number that will decide the success of connection\n",
    "agent_1_prob = rand.randint(0, 1000) / 1000"
   ]
  },
  {
   "cell_type": "code",
   "execution_count": 71,
   "metadata": {},
   "outputs": [
    {
     "name": "stdout",
     "output_type": "stream",
     "text": [
      "0.934\n",
      "4\n"
     ]
    }
   ],
   "source": [
    "print(agent_1_prob)\n",
    "print(agent_1_binom_index)"
   ]
  },
  {
   "cell_type": "code",
   "execution_count": 72,
   "metadata": {},
   "outputs": [
    {
     "data": {
      "text/plain": [
       "False"
      ]
     },
     "execution_count": 72,
     "metadata": {},
     "output_type": "execute_result"
    }
   ],
   "source": [
    "x[agent_1_binom_index] < agent_1_prob"
   ]
  },
  {
   "cell_type": "code",
   "execution_count": null,
   "metadata": {},
   "outputs": [],
   "source": []
  }
 ],
 "metadata": {
  "kernelspec": {
   "display_name": "Python 3.10.4 ('venv': venv)",
   "language": "python",
   "name": "python3"
  },
  "language_info": {
   "codemirror_mode": {
    "name": "ipython",
    "version": 3
   },
   "file_extension": ".py",
   "mimetype": "text/x-python",
   "name": "python",
   "nbconvert_exporter": "python",
   "pygments_lexer": "ipython3",
   "version": "3.10.4"
  },
  "orig_nbformat": 4,
  "vscode": {
   "interpreter": {
    "hash": "5d666164493d9f2f2dc3bb1fc2ec638b15299acfc35ddb6e02c60eccd58c4449"
   }
  }
 },
 "nbformat": 4,
 "nbformat_minor": 2
}
