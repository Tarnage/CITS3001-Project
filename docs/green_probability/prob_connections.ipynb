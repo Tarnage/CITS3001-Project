{
 "cells": [
  {
   "cell_type": "code",
   "execution_count": 20,
   "metadata": {},
   "outputs": [],
   "source": [
    "from scipy.stats import binom\n",
    "import matplotlib.pyplot as plt\n",
    "import numpy as np\n",
    "import random as rand\n",
    "TEST_SEED = 1234\n",
    "rand.seed(TEST_SEED)"
   ]
  },
  {
   "cell_type": "code",
   "execution_count": 119,
   "metadata": {},
   "outputs": [],
   "source": [
    "# n and p values\n",
    "n, p = 30, 0.40\n",
    "\n",
    "# a place to store the bonom distrubtions\n",
    "x = np.arange(0, n+1)"
   ]
  },
  {
   "cell_type": "markdown",
   "metadata": {},
   "source": [
    "# Binomial Distrubtion"
   ]
  },
  {
   "cell_type": "code",
   "execution_count": 120,
   "metadata": {},
   "outputs": [
    {
     "name": "stdout",
     "output_type": "stream",
     "text": [
      "[2.21073920e-07 4.42147839e-06 4.27409578e-05 2.65943738e-04\n",
      " 1.19674682e-03 4.14872231e-03 1.15242286e-02 2.63410940e-02\n",
      " 5.04870968e-02 8.22752689e-02 1.15185376e-01 1.39618638e-01\n",
      " 1.47375229e-01 1.36038673e-01 1.10126545e-01 7.83122097e-02\n",
      " 4.89451311e-02 2.68718367e-02 1.29382917e-02 5.44770178e-03\n",
      " 1.99749065e-03 6.34124017e-04 1.72942914e-04 4.01027046e-05\n",
      " 7.79774812e-06 1.24763970e-06 1.59953808e-07 1.57979069e-08\n",
      " 1.12842192e-09 5.18814677e-11 1.15292150e-12]\n"
     ]
    }
   ],
   "source": [
    "binomial_pmf = binom.pmf(x, n, p)\n",
    "print(binomial_pmf)"
   ]
  },
  {
   "cell_type": "code",
   "execution_count": 121,
   "metadata": {},
   "outputs": [
    {
     "data": {
      "image/png": "[encoded data removed]",
      "text/plain": [
       "<Figure size 640x480 with 1 Axes>"
      ]
     },
     "metadata": {},
     "output_type": "display_data"
    }
   ],
   "source": [
    "plt.plot(x, binomial_pmf, color='blue')\n",
    "plt.title(f\"Binomial Distribution (n={n}, p={p})\")\n",
    "plt.show()"
   ]
  },
  {
   "cell_type": "code",
   "execution_count": null,
   "metadata": {},
   "outputs": [],
   "source": [
    "# assign where this agent sits on the distubution\n",
    "agent_1_binom_index = rand.randint(0, n-1)\n",
    "\n",
    "# and a number that will decide the success of connection\n",
    "agent_1_prob = rand.randint(0, 1000) / 1000"
   ]
  },
  {
   "cell_type": "code",
   "execution_count": null,
   "metadata": {},
   "outputs": [],
   "source": [
    "print(agent_1_prob)\n",
    "print(agent_1_binom_index)"
   ]
  },
  {
   "cell_type": "code",
   "execution_count": null,
   "metadata": {},
   "outputs": [],
   "source": [
    "# check the probability an agent has a connection\n",
    "# x is the array of binomial distrubutions\n",
    "# agent_1_binom_index is a randomly assign number between 0 and n-1\n",
    "# agent_1_prob is a randomly assign number between 0.0 - 1.0\n",
    "\n",
    "# if the agents probablity(agent_1_prob) falls within the distrubution the agent has a successful connection\n",
    "\n",
    "x[agent_1_binom_index] < agent_1_prob"
   ]
  },
  {
   "cell_type": "markdown",
   "metadata": {},
   "source": [
    "# Creating greens Connections"
   ]
  },
  {
   "cell_type": "code",
   "execution_count": 48,
   "metadata": {},
   "outputs": [],
   "source": [
    "# Green Agent Class\n",
    "# We must approriatley apply random seeds\n",
    "\n",
    "class Green_Agent():\n",
    "    def __init__(self, connection_prob: list):\n",
    "        self.will_vote = 0.0\n",
    "        self.not_vote = 0.0\n",
    "        self.n, self.p = connection_prob[0], connection_prob[1]\n",
    "        self.connections = list()\n",
    "    \n",
    "    def get_will_vote(self):\n",
    "        return self.will_vote\n",
    "\n",
    "    def get_not_vote(self):\n",
    "        return self.not_vote\n",
    "\n",
    "    def set_will_vote(self, value: int):\n",
    "        self.will_vote = value\n",
    "\n",
    "    def set_not_vote(self, value: int):\n",
    "        self.not_vote = value\n",
    "\n",
    "    def calculate_vote_status(self, interval: list):\n",
    "        return\n",
    "\n",
    "    def get_prob_index(self) -> int:\n",
    "        return rand.randint(0, self.n)\n",
    "\n",
    "    def get_prob_value(self) -> int:\n",
    "        # 1000 is chosen for 3 decimal precsion\n",
    "        # this may cause precision bugs!.. \n",
    "        return rand.randint(0, 1000) / 1000\n",
    "\n",
    "    def get_connections(self) -> list:\n",
    "        return self.connections\n",
    "\n",
    "    def add_connection(self, conn: int) -> None:\n",
    "        self.connections.append(conn)"
   ]
  },
  {
   "cell_type": "code",
   "execution_count": 57,
   "metadata": {},
   "outputs": [],
   "source": [
    "def create_green_agents(num_green: int, connect_prob: list) -> list:\n",
    "    green_agents = list()\n",
    "\n",
    "    #green_adjlist = [ [] for _ in range(num_green)]\n",
    "\n",
    "    # calculate bionomials\n",
    "    binom_range = np.arange(0, connect_prob[0]+1)\n",
    "    binomial_pmf = binom.pmf(binom_range, connect_prob[0], connect_prob[1])\n",
    "    \n",
    "    # construct num_green of Green Agents\n",
    "    for i in range(num_green):\n",
    "        new_agent = Green_Agent(connect_prob)\n",
    "        green_agents.append(new_agent)\n",
    "\n",
    "    \n",
    "    # Check for connections between green agents\n",
    "    for i, agent in enumerate(green_agents):\n",
    "\n",
    "        for j in range(i+1, num_green):\n",
    "\n",
    "            # When is j less than i we have already checked those connections\n",
    "            # Thats why we start at  i+1\n",
    "            \n",
    "            # Recalcualte probabilty for each connection check\n",
    "            g_index = agent.get_prob_index()\n",
    "            g_value = agent.get_prob_value()\n",
    "\n",
    "            # check if agent has a connection\n",
    "            if g_value < binomial_pmf[g_index]:\n",
    "\n",
    "                agent.add_connection(j)\n",
    "                green_agents[j].add_connection(i)\n",
    "\n",
    "    return green_agents\n"
   ]
  },
  {
   "cell_type": "code",
   "execution_count": 122,
   "metadata": {},
   "outputs": [],
   "source": [
    "connection_prob = [30, 0.4]\n",
    "\n",
    "num_green = 60\n",
    "\n",
    "g_agents = create_green_agents(num_green, connection_prob)\n",
    "\n"
   ]
  },
  {
   "cell_type": "code",
   "execution_count": 123,
   "metadata": {},
   "outputs": [
    {
     "name": "stdout",
     "output_type": "stream",
     "text": [
      "Agent #0: 11 \n",
      "Agent #1: 24 38 \n",
      "Agent #2: 3 35 \n",
      "Agent #3: 2 \n",
      "Agent #4: 31 \n",
      "Agent #5: 12 16 35 \n",
      "Agent #6: \n",
      "Agent #7: 19 23 46 \n",
      "Agent #8: 28 \n",
      "Agent #9: 31 57 \n",
      "Agent #10: 15 25 39 49 \n",
      "Agent #11: 0 \n",
      "Agent #12: 5 53 \n",
      "Agent #13: 27 28 \n",
      "Agent #14: \n",
      "Agent #15: 10 \n",
      "Agent #16: 5 42 \n",
      "Agent #17: 50 \n",
      "Agent #18: \n",
      "Agent #19: 7 34 \n",
      "Agent #20: \n",
      "Agent #21: \n",
      "Agent #22: 39 \n",
      "Agent #23: 7 \n",
      "Agent #24: 1 40 59 \n",
      "Agent #25: 10 \n",
      "Agent #26: \n",
      "Agent #27: 13 42 \n",
      "Agent #28: 8 13 \n",
      "Agent #29: 30 32 45 47 \n",
      "Agent #30: 29 31 43 58 \n",
      "Agent #31: 4 9 30 48 \n",
      "Agent #32: 29 47 58 \n",
      "Agent #33: 51 \n",
      "Agent #34: 19 58 \n",
      "Agent #35: 2 5 \n",
      "Agent #36: \n",
      "Agent #37: \n",
      "Agent #38: 1 43 51 \n",
      "Agent #39: 10 22 58 \n",
      "Agent #40: 24 \n",
      "Agent #41: \n",
      "Agent #42: 16 27 45 51 55 \n",
      "Agent #43: 30 38 \n",
      "Agent #44: 53 \n",
      "Agent #45: 29 42 \n",
      "Agent #46: 7 \n",
      "Agent #47: 29 32 \n",
      "Agent #48: 31 59 \n",
      "Agent #49: 10 \n",
      "Agent #50: 17 \n",
      "Agent #51: 33 38 42 \n",
      "Agent #52: \n",
      "Agent #53: 12 44 \n",
      "Agent #54: \n",
      "Agent #55: 42 \n",
      "Agent #56: \n",
      "Agent #57: 9 \n",
      "Agent #58: 30 32 34 39 \n",
      "Agent #59: 24 48 \n"
     ]
    }
   ],
   "source": [
    "for i, agent in enumerate(g_agents):\n",
    "    adj_list = agent.get_connections()\n",
    "    print(f\"Agent #{i}: \", end=\"\")\n",
    "    for j in adj_list:\n",
    "        print(f'{j} ', end=\"\")\n",
    "    print()"
   ]
  },
  {
   "cell_type": "code",
   "execution_count": null,
   "metadata": {},
   "outputs": [],
   "source": []
  }
 ],
 "metadata": {
  "kernelspec": {
   "display_name": "Python 3.10.4 ('venv': venv)",
   "language": "python",
   "name": "python3"
  },
  "language_info": {
   "codemirror_mode": {
    "name": "ipython",
    "version": 3
   },
   "file_extension": ".py",
   "mimetype": "text/x-python",
   "name": "python",
   "nbconvert_exporter": "python",
   "pygments_lexer": "ipython3",
   "version": "3.10.4"
  },
  "orig_nbformat": 4,
  "vscode": {
   "interpreter": {
    "hash": "5d666164493d9f2f2dc3bb1fc2ec638b15299acfc35ddb6e02c60eccd58c4449"
   }
  }
 },
 "nbformat": 4,
 "nbformat_minor": 2
}
